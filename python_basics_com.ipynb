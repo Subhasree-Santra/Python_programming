{
 "cells": [
  {
   "cell_type": "markdown",
   "id": "90115617",
   "metadata": {},
   "source": [
    "## 1. How to Reverse a String in Python\n",
    "Ans."
   ]
  },
  {
   "cell_type": "code",
   "execution_count": 31,
   "id": "388048f9",
   "metadata": {},
   "outputs": [
    {
     "name": "stdout",
     "output_type": "stream",
     "text": [
      "Enter a string: python\n",
      "nohtyp\n"
     ]
    }
   ],
   "source": [
    "def r_string(x):\n",
    "    #input(\"Enter a string: \")\n",
    "    return x[::-1]\n",
    "\n",
    "mytxt=r_string(input(\"Enter a string: \" ))\n",
    "print(mytxt)"
   ]
  },
  {
   "cell_type": "code",
   "execution_count": 32,
   "id": "2154f844",
   "metadata": {},
   "outputs": [
    {
     "name": "stdout",
     "output_type": "stream",
     "text": [
      "Enter a string: python\n",
      "nohtyp\n"
     ]
    }
   ],
   "source": [
    "def r_string(s):\n",
    "    str=\"\"\n",
    "    for i in s:\n",
    "        str=i+str\n",
    "    return str\n",
    "\n",
    "mytxt=r_string(input(\"Enter a string: \" ))\n",
    "print(mytxt)"
   ]
  },
  {
   "cell_type": "markdown",
   "id": "966d3e89",
   "metadata": {},
   "source": [
    "## 2. Python Program to Find Largest Element in an Array\n",
    "Ans."
   ]
  },
  {
   "cell_type": "code",
   "execution_count": 19,
   "id": "18197a95",
   "metadata": {},
   "outputs": [
    {
     "name": "stdout",
     "output_type": "stream",
     "text": [
      "Enter the numbers of elements: 5\n",
      "34\n",
      "54\n",
      "3\n",
      "2\n",
      "454\n",
      "Given array:  [34, 54, 3, 2, 454]\n",
      "The largest element of the array is:  454\n"
     ]
    }
   ],
   "source": [
    "def largest(arr,n):\n",
    "    max=arr[0]\n",
    "    for i in range(1,n):\n",
    "        if arr[i] > max:\n",
    "            max = arr[i]\n",
    "    return max\n",
    "\n",
    "a=[]\n",
    "b=int(input(\"Enter the numbers of elements: \"))\n",
    "for i in range(0,b):\n",
    "    ele=int(input())\n",
    "    a.append(ele)\n",
    "print(\"Given array: \",a)\n",
    "n=len(a)\n",
    "ans=largest(a,n)\n",
    "print(\"The largest element of the array is: \",ans)"
   ]
  },
  {
   "cell_type": "markdown",
   "id": "1acafbd3",
   "metadata": {},
   "source": [
    "## 3. Check if a string is a palindrome in python\n",
    "Ans."
   ]
  },
  {
   "cell_type": "code",
   "execution_count": 28,
   "id": "000d9a99",
   "metadata": {},
   "outputs": [
    {
     "name": "stdout",
     "output_type": "stream",
     "text": [
      "Enter your string: lol\n",
      "The string is palindrome..!\n"
     ]
    }
   ],
   "source": [
    "def isPalindrome(str):\n",
    "    if str==str[::-1]:\n",
    "        print(\"The string is palindrome..!\")\n",
    "    else:\n",
    "        print(\"The string is not palindrome..!\")\n",
    "\n",
    "m=isPalindrome(input(\"Enter your string: \"))"
   ]
  },
  {
   "cell_type": "code",
   "execution_count": 29,
   "id": "e35b2a73",
   "metadata": {},
   "outputs": [
    {
     "name": "stdout",
     "output_type": "stream",
     "text": [
      "Enter your string: lolololol\n",
      "Yes\n"
     ]
    }
   ],
   "source": [
    "def isPalindrome(str):\n",
    "    for i in range(0, int(len(str)/2)):\n",
    "        if str[i] != str[len(str)-i-1]:\n",
    "            return False\n",
    "    return True\n",
    "\n",
    "s=input(\"Enter your string: \")\n",
    "ans = isPalindrome(s)\n",
    "\n",
    "if (ans):\n",
    "    print(\"Yes\")\n",
    "else:\n",
    "    print(\"No\")"
   ]
  },
  {
   "cell_type": "markdown",
   "id": "91802f29",
   "metadata": {},
   "source": [
    "## 4. Find the missing number in an array."
   ]
  },
  {
   "cell_type": "code",
   "execution_count": 25,
   "id": "d26beb4a",
   "metadata": {},
   "outputs": [
    {
     "name": "stdout",
     "output_type": "stream",
     "text": [
      "4\n"
     ]
    }
   ],
   "source": [
    "def missing_number(n,arr):\n",
    "    sum_arr=sum(arr)\n",
    "    expected_sum= (n*(n+1))//2\n",
    "    return expected_sum - sum_arr\n",
    "\n",
    "arr = [1,2,3,5]\n",
    "n = 5\n",
    "print(missing_number(n, arr))"
   ]
  },
  {
   "cell_type": "markdown",
   "id": "5d306030",
   "metadata": {},
   "source": [
    "## 5. Find the intersection of two arrays."
   ]
  },
  {
   "cell_type": "code",
   "execution_count": 2,
   "id": "bf70d0b8",
   "metadata": {},
   "outputs": [
    {
     "name": "stdout",
     "output_type": "stream",
     "text": [
      "Enter the numbers of the elements of the first array: 3\n",
      "1\n",
      "2\n",
      "3\n",
      "Enter the numbers of the elements of the second array: 4\n",
      "1\n",
      "1\n",
      "3\n",
      "4\n",
      "Intersection of the two array: [1, 3]\n"
     ]
    }
   ],
   "source": [
    "def intersection(arr1,arr2,arr3):\n",
    "    for i in range(len(arr1)):\n",
    "        for j in range(len(arr2)):\n",
    "            if arr1[i] == arr2[j]:\n",
    "                if arr1[i] not in arr3:\n",
    "                    arr3.append(arr1[i])\n",
    "\n",
    "arr1=[]\n",
    "m=int(input(\"Enter the numbers of the elements of the first array: \"))\n",
    "for i in range(0,m):\n",
    "    ele=int(input())\n",
    "    arr1.append(ele)\n",
    "arr2=[]\n",
    "n=int(input(\"Enter the numbers of the elements of the second array: \"))\n",
    "for i in range(0,n):\n",
    "    ele=int(input())\n",
    "    arr2.append(ele)\n",
    "arr3 = []\n",
    "\n",
    "intersection(arr1,arr2,arr3)\n",
    "print(\"Intersection of the two array:\", arr3)"
   ]
  },
  {
   "cell_type": "markdown",
   "id": "84c70083",
   "metadata": {},
   "source": [
    "## 6. Remove duplicates from an array."
   ]
  },
  {
   "cell_type": "code",
   "execution_count": 28,
   "id": "371cd18e",
   "metadata": {},
   "outputs": [
    {
     "name": "stdout",
     "output_type": "stream",
     "text": [
      "Enter the numbers of the elements: 5\n",
      "1\n",
      "4\n",
      "2\n",
      "4\n",
      "2\n",
      "The result array is: [1, 4, 2]\n"
     ]
    }
   ],
   "source": [
    "def remove_dup(duparr):\n",
    "    ans_arr=[]\n",
    "    for i in duparr:\n",
    "        if i not in ans_arr:\n",
    "            ans_arr.append(i)\n",
    "    print(\"The result array is:\",ans_arr)\n",
    "\n",
    "arr1=[]    \n",
    "n=int(input(\"Enter the numbers of the elements: \"))\n",
    "for i in range(0,n):\n",
    "    ele=int(input())\n",
    "    arr1.append(ele)\n",
    "remove_dup(arr1)"
   ]
  },
  {
   "cell_type": "markdown",
   "id": "ce0135ca",
   "metadata": {},
   "source": [
    "## 7. Count the occurrence of each number in an array."
   ]
  },
  {
   "cell_type": "code",
   "execution_count": 5,
   "id": "dbd6e1d3",
   "metadata": {},
   "outputs": [
    {
     "name": "stdout",
     "output_type": "stream",
     "text": [
      "Enter the numbers of the elements: 5\n",
      "3\n",
      "4\n",
      "5\n",
      "4\n",
      "3\n",
      "Enter the number to find the occerrence: 3\n",
      "2\n"
     ]
    }
   ],
   "source": [
    "#arr1=[1,2,3,1,2,4,5,3,2,2]\n",
    "arr1=[]\n",
    "n=int(input(\"Enter the numbers of the elements: \"))\n",
    "for i in range(0,n):\n",
    "    ele=int(input())\n",
    "    arr1.append(ele)\n",
    "    \n",
    "m=int(input(\"Enter the number to find the occerrence: \"))\n",
    "count=0\n",
    "for i in arr1:\n",
    "    if m == i:\n",
    "        count+=1\n",
    "    else:\n",
    "        pass\n",
    "print(count)"
   ]
  },
  {
   "cell_type": "markdown",
   "id": "42c92739",
   "metadata": {},
   "source": [
    "## 8. Find the second largest element in the array."
   ]
  },
  {
   "cell_type": "code",
   "execution_count": 12,
   "id": "5cc52857",
   "metadata": {},
   "outputs": [
    {
     "name": "stdout",
     "output_type": "stream",
     "text": [
      "Enter the number of elements in the array: 5\n",
      "3\n",
      "5\n",
      "6\n",
      "3\n",
      "2\n",
      "The second largest element is:  5\n"
     ]
    }
   ],
   "source": [
    "arr1=[]\n",
    "n=int(input(\"Enter the number of elements in the array: \"))\n",
    "for i in range(0,n):\n",
    "    temp=int(input())\n",
    "    arr1.append(temp)\n",
    "arr1.sort()\n",
    "m=len(arr1)\n",
    "print(\"The second largest element is: \",arr1[m-2])"
   ]
  },
  {
   "cell_type": "code",
   "execution_count": 13,
   "id": "ec1dbc4c",
   "metadata": {},
   "outputs": [
    {
     "name": "stdout",
     "output_type": "stream",
     "text": [
      "Enter the number of elements in the array: 6\n",
      "4\n",
      "3\n",
      "6\n",
      "2\n",
      "9\n",
      "8\n",
      "The second largest element in the array is:  8\n"
     ]
    }
   ],
   "source": [
    "arr=[]\n",
    "n=int(input(\"Enter the number of elements in the array: \"))\n",
    "for i in range(0,n):\n",
    "    temp=int(input())\n",
    "    arr.append(temp)\n",
    "arr1=[]\n",
    "m=max(arr)\n",
    "for i in arr:\n",
    "    if m>i:\n",
    "        arr1.append(i)\n",
    "print(\"The second largest element in the array is: \",max(arr1))\n",
    "    "
   ]
  },
  {
   "cell_type": "markdown",
   "id": "01e2f286",
   "metadata": {},
   "source": [
    "## 9. Merge two sorted array"
   ]
  },
  {
   "cell_type": "code",
   "execution_count": 7,
   "id": "20b09e54",
   "metadata": {},
   "outputs": [
    {
     "name": "stdout",
     "output_type": "stream",
     "text": [
      "[0, 1, 2, 3, 4, 5, 6, 7, 8, 9]\n"
     ]
    }
   ],
   "source": [
    "arr1=[0,1,2,3,4]\n",
    "arr2=[5,6,7,8,9]\n",
    "result=arr1+arr2\n",
    "print(result)"
   ]
  },
  {
   "cell_type": "code",
   "execution_count": 14,
   "id": "eb445854",
   "metadata": {},
   "outputs": [
    {
     "name": "stdout",
     "output_type": "stream",
     "text": [
      "[0, 1, 2, 3, 4, 5, 6, 7, 8, 9]\n"
     ]
    }
   ],
   "source": [
    "arr1=[0,1,2,3,4]\n",
    "arr2=[5,6,7,8,9]\n",
    "result=[]\n",
    "for i in arr1:\n",
    "    result.append(i)\n",
    "for i in arr2:\n",
    "    result.append(i)\n",
    "print(result)"
   ]
  },
  {
   "cell_type": "markdown",
   "id": "4c297c7b",
   "metadata": {},
   "source": [
    "## 10. Find the length of the longest substring without repeating characters."
   ]
  },
  {
   "cell_type": "code",
   "execution_count": 2,
   "id": "a0980c24",
   "metadata": {},
   "outputs": [
    {
     "name": "stdout",
     "output_type": "stream",
     "text": [
      "30\n"
     ]
    }
   ],
   "source": [
    "a=\"haldia institute of technology\"\n",
    "print(len(a))"
   ]
  },
  {
   "cell_type": "code",
   "execution_count": null,
   "id": "2388d7b3",
   "metadata": {},
   "outputs": [],
   "source": []
  }
 ],
 "metadata": {
  "kernelspec": {
   "display_name": "Python 3 (ipykernel)",
   "language": "python",
   "name": "python3"
  },
  "language_info": {
   "codemirror_mode": {
    "name": "ipython",
    "version": 3
   },
   "file_extension": ".py",
   "mimetype": "text/x-python",
   "name": "python",
   "nbconvert_exporter": "python",
   "pygments_lexer": "ipython3",
   "version": "3.10.9"
  }
 },
 "nbformat": 4,
 "nbformat_minor": 5
}
